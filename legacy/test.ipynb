{
 "cells": [
  {
   "cell_type": "code",
   "execution_count": null,
   "id": "f865a3da",
   "metadata": {},
   "outputs": [
    {
     "ename": "ModuleNotFoundError",
     "evalue": "No module named 'alpaca_trade_api'",
     "output_type": "error",
     "traceback": [
      "\u001b[31m---------------------------------------------------------------------------\u001b[39m",
      "\u001b[31mModuleNotFoundError\u001b[39m                       Traceback (most recent call last)",
      "\u001b[36mCell\u001b[39m\u001b[36m \u001b[39m\u001b[32mIn[2]\u001b[39m\u001b[32m, line 4\u001b[39m\n\u001b[32m      2\u001b[39m \u001b[38;5;28;01mimport\u001b[39;00m\u001b[38;5;250m \u001b[39m\u001b[34;01myfinance\u001b[39;00m\u001b[38;5;250m \u001b[39m\u001b[38;5;28;01mas\u001b[39;00m\u001b[38;5;250m \u001b[39m\u001b[34;01myf\u001b[39;00m\n\u001b[32m      3\u001b[39m \u001b[38;5;28;01mimport\u001b[39;00m\u001b[38;5;250m \u001b[39m\u001b[34;01mpandas\u001b[39;00m\u001b[38;5;250m \u001b[39m\u001b[38;5;28;01mas\u001b[39;00m\u001b[38;5;250m \u001b[39m\u001b[34;01mpd\u001b[39;00m\n\u001b[32m----> \u001b[39m\u001b[32m4\u001b[39m \u001b[38;5;28;01mfrom\u001b[39;00m\u001b[38;5;250m \u001b[39m\u001b[34;01malpaca_trade_api\u001b[39;00m\u001b[38;5;250m \u001b[39m\u001b[38;5;28;01mimport\u001b[39;00m AlpacaAPI\n\u001b[32m      6\u001b[39m api = AlphcaAPI(api_key=\u001b[33m\"\u001b[39m\u001b[33mPK3WDIKCFF4ZPKWMG5QK25QSOS\u001b[39m\u001b[33m\"\u001b[39m, api_secret=\u001b[33m\"\u001b[39m\u001b[33m6oessnea2UcEfgLjA49zD5Mm6mCNtgEUG2DguhWHjn2p\u001b[39m\u001b[33m\"\u001b[39m)\n\u001b[32m      8\u001b[39m ticker_symbol = \u001b[33m\"\u001b[39m\u001b[33mAAPL\u001b[39m\u001b[33m\"\u001b[39m\n",
      "\u001b[31mModuleNotFoundError\u001b[39m: No module named 'alpaca_trade_api'"
     ]
    }
   ],
   "source": [
    "import os\n",
    "import yfinance as yf\n",
    "import pandas as pd\n",
    "from alpacha import AlphcaAPI\n",
    "\n",
    "api = AlphcaAPI(api_key=\"PK3WDIKCFF4ZPKWMG5QK25QSOS\", api_secret=\"6oessnea2UcEfgLjA49zD5Mm6mCNtgEUG2DguhWHjn2p\")\n",
    "\n",
    "ticker_symbol = \"AAPL\"\n",
    "\n",
    "print(\"Searching for buy signal for:\", ticker_symbol)\n",
    "\n",
    "end_date = pd.Timestamp.today().date().isoformat()\n",
    "start_date = (pd.Timestamp.today() - pd.Timedelta(days=1825)).date().isoformat()\n",
    "\n",
    "stock_data = yf.download(ticker_symbol, start=start_date, end=end_date)\n",
    "stock_data['sma_50'] = stock_data['Close'].rolling(window=50).mean()\n",
    "stock_data['sma_200'] = stock_data['Close'].rolling(window=200).mean()\n",
    "stock_data['signal'] = 0\n",
    "buy_signals = (stock_data['sma_50'] > stock_data['sma_200']) & (stock_data['sma_50'].shift(1) <= stock_data['sma_200'].shift(1))\n",
    "sell_signals = (stock_data['sma_50'] < stock_data['sma_200']) & (stock_data['sma_50'].shift(1) >= stock_data['sma_200'].shift(1))\n",
    "stock_data.loc[buy_signals, 'signal'] = 1\n",
    "stock_data.loc[sell_signals, 'signal'] = -1\n",
    "\n",
    "latest_row = stock_data.iloc[[-1]]\n",
    "\n",
    "if latest_row['signal'].item() == 1:\n",
    "    order = api.submit_order(symbol=ticker_symbol, qty=10, side='buy', type='market', time_in_force='day')\n",
    "    print(\"Trade executed:\", order)\n",
    "else:\n",
    "    print(\"No buy signal on the latest date.\")"
   ]
  },
  {
   "cell_type": "code",
   "execution_count": null,
   "id": "ef56472c",
   "metadata": {},
   "outputs": [],
   "source": []
  }
 ],
 "metadata": {
  "kernelspec": {
   "display_name": "base",
   "language": "python",
   "name": "python3"
  },
  "language_info": {
   "codemirror_mode": {
    "name": "ipython",
    "version": 3
   },
   "file_extension": ".py",
   "mimetype": "text/x-python",
   "name": "python",
   "nbconvert_exporter": "python",
   "pygments_lexer": "ipython3",
   "version": "3.12.11"
  }
 },
 "nbformat": 4,
 "nbformat_minor": 5
}
