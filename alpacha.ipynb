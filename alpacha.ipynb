{
 "cells": [
  {
   "cell_type": "code",
   "execution_count": 1,
   "id": "0d950e14",
   "metadata": {},
   "outputs": [
    {
     "name": "stdout",
     "output_type": "stream",
     "text": [
      "{'account_blocked': False,\n",
      " 'account_number': 'PA39ZRSM24ZM',\n",
      " 'accrued_fees': '0',\n",
      " 'admin_configurations': {},\n",
      " 'balance_asof': '2025-10-13',\n",
      " 'bod_dtbp': '0',\n",
      " 'buying_power': '200000',\n",
      " 'cash': '100000',\n",
      " 'created_at': '2022-06-29T22:47:58.783467Z',\n",
      " 'crypto_status': 'ACTIVE',\n",
      " 'crypto_tier': 1,\n",
      " 'currency': 'USD',\n",
      " 'daytrade_count': 0,\n",
      " 'daytrading_buying_power': '0',\n",
      " 'effective_buying_power': '200000',\n",
      " 'equity': '100000',\n",
      " 'id': 'a4824b34-307c-45a7-a832-35deb099df29',\n",
      " 'initial_margin': '0',\n",
      " 'intraday_adjustments': '0',\n",
      " 'last_equity': '100000',\n",
      " 'last_maintenance_margin': '0',\n",
      " 'long_market_value': '0',\n",
      " 'maintenance_margin': '0',\n",
      " 'multiplier': '2',\n",
      " 'non_marginable_buying_power': '100000',\n",
      " 'options_approved_level': 3,\n",
      " 'options_buying_power': '100000',\n",
      " 'options_trading_level': 3,\n",
      " 'pattern_day_trader': True,\n",
      " 'pending_reg_taf_fees': '0',\n",
      " 'portfolio_value': '100000',\n",
      " 'position_market_value': '0',\n",
      " 'regt_buying_power': '200000',\n",
      " 'short_market_value': '0',\n",
      " 'shorting_enabled': True,\n",
      " 'sma': '100000',\n",
      " 'status': 'ACTIVE',\n",
      " 'trade_suspended_by_user': False,\n",
      " 'trading_blocked': False,\n",
      " 'transfers_blocked': False,\n",
      " 'user_configurations': None}\n"
     ]
    }
   ],
   "source": [
    "import requests\n",
    "import pprint\n",
    "\n",
    "class AlphcaAPI:\n",
    "    def __init__(self, api_key: str, api_secret: str, base_url: str = \"https://paper-api.alpaca.markets/v2\"):\n",
    "        self.api_key = api_key\n",
    "        self.api_secret = api_secret\n",
    "        self.base_url = base_url\n",
    "        self.headers = {\n",
    "            \"APCA-API-KEY-ID\": self.api_key,\n",
    "            \"APCA-API-SECRET-KEY\": self.api_secret\n",
    "        }\n",
    "\n",
    "    def get_account_info(self):\n",
    "        url = f\"{self.base_url}/account\"\n",
    "        response = requests.get(url, headers=self.headers)\n",
    "        response.raise_for_status()\n",
    "        return response.json()\n",
    "\n",
    "    def get_market_data(self, symbol: str):\n",
    "        url = f\"https://data.alpaca.markets/v2/stocks/{symbol}/bars?timeframe=1Day&limit=5\"\n",
    "        response = requests.get(url, headers=self.headers)\n",
    "        response.raise_for_status()\n",
    "        return response.json()\n",
    "\n",
    "    def place_order(self, symbol: str, qty: int, side: str, order_type: str = \"market\", time_in_force: str = \"day\"):\n",
    "        url = f\"{self.base_url}/orders\"\n",
    "        data = {\n",
    "        \"symbol\": symbol,\n",
    "        \"qty\": qty,\n",
    "        \"side\": side,\n",
    "        \"type\": order_type,\n",
    "        \"time_in_force\": time_in_force\n",
    "    }\n",
    "        response = requests.post(url, json=data, headers=self.headers)\n",
    "        response.raise_for_status()\n",
    "        return response.json()\n",
    "# Example usage:\n",
    "api = AlphcaAPI(api_key=\"PKVYGF4K9O1DXVRUPN7R\", api_secret=\"qozyVh0vFisDDUqNiZSih8GJfuIBzChas9isJ9XM\")\n",
    "account_info = api.get_account_info()\n",
    "\n",
    "pprint.pprint(account_info)"
   ]
  },
  {
   "cell_type": "code",
   "execution_count": 2,
   "id": "8cc4cac0",
   "metadata": {},
   "outputs": [],
   "source": [
    "market_data = api.get_market_data(\"AAPL\")"
   ]
  },
  {
   "cell_type": "code",
   "execution_count": 3,
   "id": "db53ed25",
   "metadata": {},
   "outputs": [
    {
     "data": {
      "text/plain": [
       "{'id': 'b24ba26a-9698-4574-95fc-db2147228b2c',\n",
       " 'client_order_id': '75bea6d2-8ffb-4b06-b0c0-f5f3c5553bfe',\n",
       " 'created_at': '2025-10-14T15:28:47.041490682Z',\n",
       " 'updated_at': '2025-10-14T15:28:47.043833072Z',\n",
       " 'submitted_at': '2025-10-14T15:28:47.041490682Z',\n",
       " 'filled_at': None,\n",
       " 'expired_at': None,\n",
       " 'canceled_at': None,\n",
       " 'failed_at': None,\n",
       " 'replaced_at': None,\n",
       " 'replaced_by': None,\n",
       " 'replaces': None,\n",
       " 'asset_id': 'b0b6dd9d-8b9b-48a9-ba46-b9d54906e415',\n",
       " 'symbol': 'AAPL',\n",
       " 'asset_class': 'us_equity',\n",
       " 'notional': None,\n",
       " 'qty': '10',\n",
       " 'filled_qty': '0',\n",
       " 'filled_avg_price': None,\n",
       " 'order_class': '',\n",
       " 'order_type': 'market',\n",
       " 'type': 'market',\n",
       " 'side': 'buy',\n",
       " 'position_intent': 'buy_to_open',\n",
       " 'time_in_force': 'day',\n",
       " 'limit_price': None,\n",
       " 'stop_price': None,\n",
       " 'status': 'pending_new',\n",
       " 'extended_hours': False,\n",
       " 'legs': None,\n",
       " 'trail_percent': None,\n",
       " 'trail_price': None,\n",
       " 'hwm': None,\n",
       " 'subtag': None,\n",
       " 'source': None,\n",
       " 'expires_at': '2025-10-14T20:00:00Z'}"
      ]
     },
     "execution_count": 3,
     "metadata": {},
     "output_type": "execute_result"
    }
   ],
   "source": [
    "api.place_order(\"AAPL\", 10, \"buy\")"
   ]
  },
  {
   "cell_type": "code",
   "execution_count": 4,
   "id": "4dc7d9f3",
   "metadata": {},
   "outputs": [
    {
     "name": "stdout",
     "output_type": "stream",
     "text": [
      "{'account_blocked': False,\n",
      " 'account_number': 'PA39ZRSM24ZM',\n",
      " 'accrued_fees': '0',\n",
      " 'admin_configurations': {},\n",
      " 'balance_asof': '2025-10-13',\n",
      " 'bod_dtbp': '0',\n",
      " 'buying_power': '200000',\n",
      " 'cash': '100000',\n",
      " 'created_at': '2022-06-29T22:47:58.783467Z',\n",
      " 'crypto_status': 'ACTIVE',\n",
      " 'crypto_tier': 1,\n",
      " 'currency': 'USD',\n",
      " 'daytrade_count': 0,\n",
      " 'daytrading_buying_power': '0',\n",
      " 'effective_buying_power': '200000',\n",
      " 'equity': '100000',\n",
      " 'id': 'a4824b34-307c-45a7-a832-35deb099df29',\n",
      " 'initial_margin': '0',\n",
      " 'intraday_adjustments': '0',\n",
      " 'last_equity': '100000',\n",
      " 'last_maintenance_margin': '0',\n",
      " 'long_market_value': '0',\n",
      " 'maintenance_margin': '0',\n",
      " 'multiplier': '2',\n",
      " 'non_marginable_buying_power': '100000',\n",
      " 'options_approved_level': 3,\n",
      " 'options_buying_power': '100000',\n",
      " 'options_trading_level': 3,\n",
      " 'pattern_day_trader': True,\n",
      " 'pending_reg_taf_fees': '0',\n",
      " 'portfolio_value': '100000',\n",
      " 'position_market_value': '0',\n",
      " 'regt_buying_power': '200000',\n",
      " 'short_market_value': '0',\n",
      " 'shorting_enabled': True,\n",
      " 'sma': '100000',\n",
      " 'status': 'ACTIVE',\n",
      " 'trade_suspended_by_user': False,\n",
      " 'trading_blocked': False,\n",
      " 'transfers_blocked': False,\n",
      " 'user_configurations': None}\n"
     ]
    }
   ],
   "source": [
    "pprint.pprint(account_info)"
   ]
  },
  {
   "cell_type": "code",
   "execution_count": null,
   "id": "df6c2594",
   "metadata": {},
   "outputs": [],
   "source": []
  }
 ],
 "metadata": {
  "kernelspec": {
   "display_name": "base",
   "language": "python",
   "name": "python3"
  },
  "language_info": {
   "codemirror_mode": {
    "name": "ipython",
    "version": 3
   },
   "file_extension": ".py",
   "mimetype": "text/x-python",
   "name": "python",
   "nbconvert_exporter": "python",
   "pygments_lexer": "ipython3",
   "version": "3.12.11"
  }
 },
 "nbformat": 4,
 "nbformat_minor": 5
}
