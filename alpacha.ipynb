{
 "cells": [
  {
   "cell_type": "code",
   "execution_count": null,
   "id": "0d950e14",
   "metadata": {},
   "outputs": [],
   "source": [
    "import requests\n",
    "import pprint\n",
    "\n",
    "class AlphcaAPI:\n",
    "    def __init__(self, api_key: str, api_secret: str, base_url: str = \"https://paper-api.alpaca.markets/v2\"):\n",
    "        self.api_key = api_key\n",
    "        self.api_secret = api_secret\n",
    "        self.base_url = base_url\n",
    "        self.headers = {\n",
    "            \"APCA-API-KEY-ID\": self.api_key,\n",
    "            \"APCA-API-SECRET-KEY\": self.api_secret\n",
    "        }\n",
    "\n",
    "    def get_account_info(self):\n",
    "        url = f\"{self.base_url}/account\"\n",
    "        response = requests.get(url, headers=self.headers)\n",
    "        response.raise_for_status()\n",
    "        return response.json()\n",
    "\n",
    "    def get_market_data(self, symbol: str):\n",
    "        url = f\"https://data.alpaca.markets/v2/stocks/{symbol}/bars?timeframe=1Day&limit=5\"\n",
    "        response = requests.get(url, headers=self.headers)\n",
    "        response.raise_for_status()\n",
    "        return response.json()\n",
    "\n",
    "    def place_order(self, symbol: str, qty: int, side: str, order_type: str = \"market\", time_in_force: str = \"day\"):\n",
    "        url = f\"{self.base_url}/orders\"\n",
    "        data = {\n",
    "        \"symbol\": symbol,\n",
    "        \"qty\": qty,\n",
    "        \"side\": side,\n",
    "        \"type\": order_type,\n",
    "        \"time_in_force\": time_in_force\n",
    "    }\n",
    "        response = requests.post(url, json=data, headers=self.headers)\n",
    "        response.raise_for_status()\n",
    "        return response.json()\n",
    "    \n",
    "# Example usage:\n",
    "api = AlphcaAPI(api_key=\"PKVYGF4K9O1DXVRUPN7R\", api_secret=\"qozyVh0vFisDDUqNiZSih8GJfuIBzChas9isJ9XM\")\n",
    "account_info = api.get_account_info()\n",
    "\n",
    "pprint.pprint(account_info)"
   ]
  },
  {
   "cell_type": "code",
   "execution_count": null,
   "id": "8cc4cac0",
   "metadata": {},
   "outputs": [],
   "source": [
    "market_data = api.get_market_data(\"AAPL\")"
   ]
  },
  {
   "cell_type": "code",
   "execution_count": null,
   "id": "db53ed25",
   "metadata": {},
   "outputs": [],
   "source": [
    "api.place_order(\"AAPL\", 10, \"buy\")"
   ]
  },
  {
   "cell_type": "code",
   "execution_count": null,
   "id": "4dc7d9f3",
   "metadata": {},
   "outputs": [],
   "source": [
    "pprint.pprint(account_info)"
   ]
  },
  {
   "cell_type": "code",
   "execution_count": null,
   "id": "df6c2594",
   "metadata": {},
   "outputs": [],
   "source": []
  }
 ],
 "metadata": {
  "kernelspec": {
   "display_name": "base",
   "language": "python",
   "name": "python3"
  },
  "language_info": {
   "codemirror_mode": {
    "name": "ipython",
    "version": 3
   },
   "file_extension": ".py",
   "mimetype": "text/x-python",
   "name": "python",
   "nbconvert_exporter": "python",
   "pygments_lexer": "ipython3",
   "version": "3.12.11"
  }
 },
 "nbformat": 4,
 "nbformat_minor": 5
}
