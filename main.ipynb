{
 "cells": [
  {
   "cell_type": "code",
   "execution_count": null,
   "id": "1ae76178",
   "metadata": {},
   "outputs": [],
   "source": [
    "import yfinance as yf\n",
    "import matplotlib.pyplot as plt\n",
    "import pandas as pd\n",
    "from alpacha import AlphcaAPI\n",
    "\n",
    "api = AlphcaAPI(api_key=\"PK3WDIKCFF4ZPKWMG5QK25QSOS\", api_secret=\"6oessnea2UcEfgLjA49zD5Mm6mCNtgEUG2DguhWHjn2p\")\n",
    "account_info = api.get_account_info()\n",
    "\n",
    "ticker_symbol = \"AAPL\"\n",
    "\n",
    "end_date = pd.Timestamp.today().date().isoformat()\n",
    "start_date = (pd.Timestamp.today() - pd.Timedelta(days=1825)).date().isoformat()\n",
    "\n",
    "stock_data = yf.download(ticker_symbol, start=start_date, end=end_date)\n",
    "\n",
    "stock_data.tail()"
   ]
  },
  {
   "cell_type": "code",
   "execution_count": null,
   "id": "c439b616",
   "metadata": {},
   "outputs": [],
   "source": [
    "# Data Preprocessing\n",
    "stock_data['sma_50'] = stock_data['Close'].rolling(window=50).mean()\n",
    "stock_data['sma_200'] = stock_data['Close'].rolling(window=200).mean()"
   ]
  },
  {
   "cell_type": "code",
   "execution_count": null,
   "id": "b23494b1",
   "metadata": {},
   "outputs": [],
   "source": [
    "stock_data.tail()"
   ]
  },
  {
   "cell_type": "code",
   "execution_count": null,
   "id": "4f653ffc",
   "metadata": {},
   "outputs": [],
   "source": [
    "# Generate buy/sell signals\n",
    "stock_data['signal'] = 0\n",
    "buy_signals = (stock_data['sma_50'] > stock_data['sma_200']) & (stock_data['sma_50'].shift(1) <= stock_data['sma_200'].shift(1))\n",
    "stock_data.loc[buy_signals, 'signal'] = 1\n",
    "\n",
    "sell_signals = (stock_data['sma_50'] < stock_data['sma_200']) & (stock_data['sma_50'].shift(1) >= stock_data['sma_200'].shift(1))\n",
    "stock_data.loc[sell_signals, 'signal'] = -1\n",
    "\n",
    "stock_data.tail()"
   ]
  },
  {
   "cell_type": "code",
   "execution_count": null,
   "id": "5c7ada14",
   "metadata": {},
   "outputs": [],
   "source": [
    "position = 0\n",
    "capital = 10000\n",
    "\n",
    "for i in range(len(stock_data)):\n",
    "    if stock_data['signal'].iloc[i] == 1 and position != 1:\n",
    "        position = 1\n",
    "        capital -= stock_data['Close'].iloc[i]\n",
    "        print(f\"Buy at {stock_data['Close'].iloc[i]} on {stock_data.index[i]}\")\n",
    "\n",
    "    elif stock_data['signal'].iloc[i] == -1 and position != -1:\n",
    "        position = -1\n",
    "        capital = position * stock_data['Close'].iloc[i]\n",
    "        print(f\"Sell at {stock_data['Close'].iloc[i]} on {stock_data.index[i]}\")\n",
    "        "
   ]
  },
  {
   "cell_type": "code",
   "execution_count": null,
   "id": "94b28d83",
   "metadata": {},
   "outputs": [],
   "source": [
    "latest_row = stock_data.iloc[[-1]]\n",
    "\n",
    "if latest_row['signal'].item() == 1:\n",
    "\n",
    "    order = api.place_order(ticker_symbol, 10, \"buy\")\n",
    "    print(\"Trade executed:\", order)\n",
    "else:\n",
    "    print(\"No buy signal on the latest date.\")"
   ]
  }
 ],
 "metadata": {
  "kernelspec": {
   "display_name": "base",
   "language": "python",
   "name": "python3"
  },
  "language_info": {
   "codemirror_mode": {
    "name": "ipython",
    "version": 3
   },
   "file_extension": ".py",
   "mimetype": "text/x-python",
   "name": "python",
   "nbconvert_exporter": "python",
   "pygments_lexer": "ipython3",
   "version": "3.12.11"
  }
 },
 "nbformat": 4,
 "nbformat_minor": 5
}
